{
 "cells": [
  {
   "cell_type": "markdown",
   "metadata": {},
   "source": [
    "<b><h1> Juypter Notebook for Fires in the Toronto and Surronding areas </h1> </b>\n",
    "<h3> This note book is to show fires in the toronto area and further more mapping out a few hospitals and firestations around a certain incident that was abnormal\n",
    "\n",
    "\n"
   ]
  },
  {
   "cell_type": "markdown",
   "metadata": {},
   "source": [
    "<h4> References:\n",
    "<br>https://open.toronto.ca/dataset/fire-incidents/</br>\n",
    "<br>https://developers.arcgis.com/python/sample-notebooks/finding-hospitals-closest-to-an-incident/</br>\n",
    "<br>ttps://developers.arcgis.com/python/guide/</br>\n",
    "<br>https://developers.arcgis.com/python/sample-notebooks/</br>\n",
    "\n"
   ]
  },
  {
   "cell_type": "code",
   "execution_count": 1,
   "metadata": {},
   "outputs": [],
   "source": [
    "#upload CSV into RIT ArcGIS Online (aka local portal)\n",
    "#Needs to be already signed in external from notebook\n",
    "from arcgis.gis import GIS\n",
    "gis = GIS(\"pro\")\n",
    "\n"
   ]
  },
  {
   "cell_type": "code",
   "execution_count": 2,
   "metadata": {},
   "outputs": [],
   "source": [
    "#import files and libraries\n",
    "from IPython.display import HTML\n",
    "from arcgis import geocoding\n",
    "import pandas as pd"
   ]
  },
  {
   "cell_type": "markdown",
   "metadata": {},
   "source": [
    "So I Started this off by identifying a field that I would like to research. So from class I started to look at NYC open data and saw many topics that would be interesting. I ended up choosing fire incidents in the local area. I ended up seeing that there was so many incidents and filtering the data set would be tidious. So I switched the open data to reference Toronto since I love the area and my girlfriend goes to college in the surroding areas and so I felt more attached to the area/subject"
   ]
  },
  {
   "cell_type": "markdown",
   "metadata": {},
   "source": [
    "I used the Data science process throughout the experement. I Note some steps but would like to point out specifically that i used the anayltic approach -> data prep and looped through that section many of times as I got more and more specific about my data"
   ]
  },
  {
   "cell_type": "code",
   "execution_count": 3,
   "metadata": {},
   "outputs": [
    {
     "data": {
      "text/html": [
       "<div class=\"item_container\" style=\"height: auto; overflow: hidden; border: 1px solid #cfcfcf; border-radius: 2px; background: #f6fafa; line-height: 1.21429em; padding: 10px;\">\n",
       "                    <div class=\"item_left\" style=\"width: 210px; float: left;\">\n",
       "                       <a href='https://ritarcgis.maps.arcgis.com//home/item.html?id=c754dc9aa92d42ff9995767ef4ad43d9' target='_blank'>\n",
       "                        <img src='http://static.arcgis.com/images/desktopapp.png' class=\"itemThumbnail\">\n",
       "                       </a>\n",
       "                    </div>\n",
       "\n",
       "                    <div class=\"item_right\"     style=\"float: none; width: auto; overflow: hidden;\">\n",
       "                        <a href='https://ritarcgis.maps.arcgis.com//home/item.html?id=c754dc9aa92d42ff9995767ef4ad43d9' target='_blank'><b>Fires in Toronto for Lab04 -8 - JDN8608</b>\n",
       "                        </a>\n",
       "                        <br/><img src='https://ritarcgis.maps.arcgis.com//home/js/jsapi/esri/css/images/item_type_icons/featureshosted16.png' style=\"vertical-align:middle;\">Feature Layer Collection by jdn8608@rit.edu_RITArcGIS\n",
       "                        <br/>Last Modified: October 13, 2019\n",
       "                        <br/>0 comments, 0 views\n",
       "                    </div>\n",
       "                </div>\n",
       "                "
      ],
      "text/plain": [
       "<Item title:\"Fires in Toronto for Lab04 -8 - JDN8608\" type:Feature Layer Collection owner:jdn8608@rit.edu_RITArcGIS>"
      ]
     },
     "execution_count": 3,
     "metadata": {},
     "output_type": "execute_result"
    }
   ],
   "source": [
    "#Data Prep\n",
    "#gets the csv file path to reference\n",
    "csv_file = \"Toronto_Fire_MasterInfoFile.csv\" \n",
    "#Creates the casv properties for upload\n",
    "csv_prop = {'title':'Fires in Toronto for Lab04 - FINAL - JDN8608','description':'Map for lab 4 for RIT GIS 386', 'tags':'jdn_lab04_2019_fire'}\n",
    "#Uploads the csv\n",
    "fir_incidents = gis.content.add(item_properties=csv_prop, data=csv_file)\n",
    "fir_incidents_lyr = fir_incidents.publish()\n",
    "fir_incidents_lyr"
   ]
  },
  {
   "cell_type": "code",
   "execution_count": 33,
   "metadata": {},
   "outputs": [
    {
     "data": {
      "application/vnd.jupyter.widget-view+json": {
       "model_id": "26f88a217d994a178b4e4ca92efdcc55",
       "version_major": 2,
       "version_minor": 0
      },
      "text/plain": [
       "MapView(layout=Layout(height='400px', width='100%'), zoom=4.0)"
      ]
     },
     "metadata": {},
     "output_type": "display_data"
    }
   ],
   "source": [
    "#Modeling and DATA prep\n",
    "#Creates the Map for the Toronto area that will be evaluated\n",
    "Toronto_Map = gis.map('Toronto, Canada', zoomlevel=4)\n",
    "Toronto_Map"
   ]
  },
  {
   "cell_type": "code",
   "execution_count": 5,
   "metadata": {},
   "outputs": [],
   "source": [
    "#Data Collection\n",
    "#creates the fire layer and recieves the information from the incident file\n",
    "fire_lyr = fir_incidents_lyr.layers[0]"
   ]
  },
  {
   "cell_type": "code",
   "execution_count": 6,
   "metadata": {},
   "outputs": [],
   "source": [
    "#Create a custom symbol that marks where the earthquakes are\n",
    "sym =  {\n",
    "    \"type\": \"esriSMS\",\n",
    "    \"style\": \"esriSMSCircle\",\n",
    "    \"color\": [227,182,0,255], #I choosed a orange color for any incident fire\n",
    "    \"size\": 8,\n",
    "    \"angle\": 0,\n",
    "    \"xoffset\": 0,\n",
    "    \"yoffset\": 0,\n",
    "    \"outline\": \n",
    "\t{\n",
    "     \"color\": [255,255,255,255],#outline in white\n",
    "     \"width\": 1\n",
    "    }}\n",
    "#render these new symbols\n",
    "rend = {\"renderer\":\"SimpleRenderer\", \"symbol\":sym, \"field_name\": \"_id\"}"
   ]
  },
  {
   "cell_type": "code",
   "execution_count": 30,
   "metadata": {},
   "outputs": [],
   "source": [
    "#Data understanding\n",
    "#adds the layer to the map to show all the incidents\n",
    "Toronto_Map.add_layer(fire_lyr, rend)"
   ]
  },
  {
   "cell_type": "code",
   "execution_count": 11,
   "metadata": {},
   "outputs": [
    {
     "data": {
      "text/plain": [
       "True"
      ]
     },
     "execution_count": 11,
     "metadata": {},
     "output_type": "execute_result"
    }
   ],
   "source": [
    "#Reference line used for troubleshooting and creation of map and map layers\n",
    "Toronto_Map.remove_layers()"
   ]
  },
  {
   "cell_type": "markdown",
   "metadata": {},
   "source": [
    "From here I saw that the data was over populated with different incidents of fires. I decided to narrow my field and look at only cases in which there were fires that caused causulties"
   ]
  },
  {
   "cell_type": "code",
   "execution_count": 17,
   "metadata": {},
   "outputs": [
    {
     "data": {
      "text/html": [
       "<div>\n",
       "<style scoped>\n",
       "    .dataframe tbody tr th:only-of-type {\n",
       "        vertical-align: middle;\n",
       "    }\n",
       "\n",
       "    .dataframe tbody tr th {\n",
       "        vertical-align: top;\n",
       "    }\n",
       "\n",
       "    .dataframe thead th {\n",
       "        text-align: right;\n",
       "    }\n",
       "</style>\n",
       "<table border=\"1\" class=\"dataframe\">\n",
       "  <thead>\n",
       "    <tr style=\"text-align: right;\">\n",
       "      <th></th>\n",
       "      <th>Area_of_Origin</th>\n",
       "      <th>Building_Status</th>\n",
       "      <th>Business_Impact</th>\n",
       "      <th>Civilian_Casualties</th>\n",
       "      <th>Count_of_Persons_Rescued</th>\n",
       "      <th>Estimated_Dollar_Loss</th>\n",
       "      <th>Estimated_Number_Of_Persons_Dis</th>\n",
       "      <th>Exposures</th>\n",
       "      <th>Ext_agent_app_or_defer_time</th>\n",
       "      <th>Extent_Of_Fire</th>\n",
       "      <th>...</th>\n",
       "      <th>Smoke_Alarm_at_Fire_Origin</th>\n",
       "      <th>Smoke_Alarm_at_Fire_Origin_Al_1</th>\n",
       "      <th>Smoke_Alarm_at_Fire_Origin_Alar</th>\n",
       "      <th>Smoke_Spread</th>\n",
       "      <th>Sprinkler_System_Operation</th>\n",
       "      <th>Sprinkler_System_Presence</th>\n",
       "      <th>Status_of_Fire_On_Arrival</th>\n",
       "      <th>TFS_Alarm_Time</th>\n",
       "      <th>TFS_Arrival_Time</th>\n",
       "      <th>TFS_Firefighter_Casualties</th>\n",
       "    </tr>\n",
       "  </thead>\n",
       "  <tbody>\n",
       "    <tr>\n",
       "      <th>0</th>\n",
       "      <td>24 - Cooking Area or Kitchen</td>\n",
       "      <td>01 - Normal (no change)</td>\n",
       "      <td>8 - Not applicable (not a business)</td>\n",
       "      <td>1</td>\n",
       "      <td>0</td>\n",
       "      <td>300</td>\n",
       "      <td>0.0</td>\n",
       "      <td>None</td>\n",
       "      <td>2017-06-09 17:46:21</td>\n",
       "      <td>1 - Confined to object of origin</td>\n",
       "      <td>...</td>\n",
       "      <td>9 - Floor/suite of fire origin: Smoke alarm pr...</td>\n",
       "      <td>9 - Type undetermined</td>\n",
       "      <td>99 - Reason for inoperation undetermined</td>\n",
       "      <td>3 - Spread to entire room of origin</td>\n",
       "      <td>2 - Did not activate: remote from fire</td>\n",
       "      <td>2 - Partial sprinkler system present</td>\n",
       "      <td>1 - Fire extinguished prior to arrival</td>\n",
       "      <td>2017-06-09 17:37:26</td>\n",
       "      <td>2017-06-09 17:41:16</td>\n",
       "      <td>0</td>\n",
       "    </tr>\n",
       "    <tr>\n",
       "      <th>1</th>\n",
       "      <td>22 - Sleeping Area or Bedroom (inc. patients r...</td>\n",
       "      <td>01 - Normal (no change)</td>\n",
       "      <td>8 - Not applicable (not a business)</td>\n",
       "      <td>1</td>\n",
       "      <td>0</td>\n",
       "      <td>20000</td>\n",
       "      <td>5.0</td>\n",
       "      <td>None</td>\n",
       "      <td>2014-03-06 20:20:00</td>\n",
       "      <td>3 - Spread to entire room of origin</td>\n",
       "      <td>...</td>\n",
       "      <td>2 - Floor/suite of fire origin: Smoke alarm pr...</td>\n",
       "      <td>4 - Interconnected</td>\n",
       "      <td>98 - Not applicable: Alarm operated OR presenc...</td>\n",
       "      <td>5 - Multi unit bldg: spread beyond suite of or...</td>\n",
       "      <td>8 - Not applicable - no sprinkler system present</td>\n",
       "      <td>3 - No sprinkler system</td>\n",
       "      <td>4 - Flames showing from small area (one storey...</td>\n",
       "      <td>2014-03-06 20:10:48</td>\n",
       "      <td>2014-03-06 20:15:50</td>\n",
       "      <td>0</td>\n",
       "    </tr>\n",
       "    <tr>\n",
       "      <th>2</th>\n",
       "      <td>24 - Cooking Area or Kitchen</td>\n",
       "      <td>01 - Normal (no change)</td>\n",
       "      <td>1 - No business interruption</td>\n",
       "      <td>1</td>\n",
       "      <td>0</td>\n",
       "      <td>10000</td>\n",
       "      <td>2.0</td>\n",
       "      <td>None</td>\n",
       "      <td>2014-10-07 07:46:01</td>\n",
       "      <td>2 - Confined to part of room/area of origin</td>\n",
       "      <td>...</td>\n",
       "      <td>1 - Floor/suite of fire origin: No smoke alarm</td>\n",
       "      <td>1 - Battery operated</td>\n",
       "      <td>8 - Tampered with (vandalism)</td>\n",
       "      <td>4 - Spread beyond room of origin, same floor</td>\n",
       "      <td>8 - Not applicable - no sprinkler system present</td>\n",
       "      <td>3 - No sprinkler system</td>\n",
       "      <td>1 - Fire extinguished prior to arrival</td>\n",
       "      <td>2014-10-07 07:34:36</td>\n",
       "      <td>2014-10-07 07:40:15</td>\n",
       "      <td>0</td>\n",
       "    </tr>\n",
       "    <tr>\n",
       "      <th>3</th>\n",
       "      <td>24 - Cooking Area or Kitchen</td>\n",
       "      <td>01 - Normal (no change)</td>\n",
       "      <td>1 - No business interruption</td>\n",
       "      <td>1</td>\n",
       "      <td>0</td>\n",
       "      <td>20000</td>\n",
       "      <td>1.0</td>\n",
       "      <td>None</td>\n",
       "      <td>2015-11-27 23:48:30</td>\n",
       "      <td>2 - Confined to part of room/area of origin</td>\n",
       "      <td>...</td>\n",
       "      <td>9 - Floor/suite of fire origin: Smoke alarm pr...</td>\n",
       "      <td>9 - Type undetermined</td>\n",
       "      <td>99 - Reason for inoperation undetermined</td>\n",
       "      <td>6 - Multi unit bldg: spread to separate suite(s)</td>\n",
       "      <td>2 - Did not activate: remote from fire</td>\n",
       "      <td>1 - Full sprinkler system present</td>\n",
       "      <td>1 - Fire extinguished prior to arrival</td>\n",
       "      <td>2015-11-27 23:40:25</td>\n",
       "      <td>2015-11-27 23:44:49</td>\n",
       "      <td>0</td>\n",
       "    </tr>\n",
       "    <tr>\n",
       "      <th>4</th>\n",
       "      <td>24 - Cooking Area or Kitchen</td>\n",
       "      <td>01 - Normal (no change)</td>\n",
       "      <td>8 - Not applicable (not a business)</td>\n",
       "      <td>2</td>\n",
       "      <td>0</td>\n",
       "      <td>500</td>\n",
       "      <td>0.0</td>\n",
       "      <td>None</td>\n",
       "      <td>2017-08-27 09:37:53</td>\n",
       "      <td>2 - Confined to part of room/area of origin</td>\n",
       "      <td>...</td>\n",
       "      <td>2 - Floor/suite of fire origin: Smoke alarm pr...</td>\n",
       "      <td>1 - Battery operated</td>\n",
       "      <td>98 - Not applicable: Alarm operated OR presenc...</td>\n",
       "      <td>7 - Spread to other floors, confined to building</td>\n",
       "      <td>8 - Not applicable - no sprinkler system present</td>\n",
       "      <td>3 - No sprinkler system</td>\n",
       "      <td>1 - Fire extinguished prior to arrival</td>\n",
       "      <td>2017-08-27 09:34:38</td>\n",
       "      <td>2017-08-27 09:35:44</td>\n",
       "      <td>0</td>\n",
       "    </tr>\n",
       "  </tbody>\n",
       "</table>\n",
       "<p>5 rows × 45 columns</p>\n",
       "</div>"
      ],
      "text/plain": [
       "                                      Area_of_Origin          Building_Status  \\\n",
       "0                       24 - Cooking Area or Kitchen  01 - Normal (no change)   \n",
       "1  22 - Sleeping Area or Bedroom (inc. patients r...  01 - Normal (no change)   \n",
       "2                       24 - Cooking Area or Kitchen  01 - Normal (no change)   \n",
       "3                       24 - Cooking Area or Kitchen  01 - Normal (no change)   \n",
       "4                       24 - Cooking Area or Kitchen  01 - Normal (no change)   \n",
       "\n",
       "                       Business_Impact  Civilian_Casualties  \\\n",
       "0  8 - Not applicable (not a business)                    1   \n",
       "1  8 - Not applicable (not a business)                    1   \n",
       "2         1 - No business interruption                    1   \n",
       "3         1 - No business interruption                    1   \n",
       "4  8 - Not applicable (not a business)                    2   \n",
       "\n",
       "   Count_of_Persons_Rescued  Estimated_Dollar_Loss  \\\n",
       "0                         0                    300   \n",
       "1                         0                  20000   \n",
       "2                         0                  10000   \n",
       "3                         0                  20000   \n",
       "4                         0                    500   \n",
       "\n",
       "   Estimated_Number_Of_Persons_Dis Exposures Ext_agent_app_or_defer_time  \\\n",
       "0                              0.0      None         2017-06-09 17:46:21   \n",
       "1                              5.0      None         2014-03-06 20:20:00   \n",
       "2                              2.0      None         2014-10-07 07:46:01   \n",
       "3                              1.0      None         2015-11-27 23:48:30   \n",
       "4                              0.0      None         2017-08-27 09:37:53   \n",
       "\n",
       "                                Extent_Of_Fire             ...              \\\n",
       "0             1 - Confined to object of origin             ...               \n",
       "1          3 - Spread to entire room of origin             ...               \n",
       "2  2 - Confined to part of room/area of origin             ...               \n",
       "3  2 - Confined to part of room/area of origin             ...               \n",
       "4  2 - Confined to part of room/area of origin             ...               \n",
       "\n",
       "                          Smoke_Alarm_at_Fire_Origin  \\\n",
       "0  9 - Floor/suite of fire origin: Smoke alarm pr...   \n",
       "1  2 - Floor/suite of fire origin: Smoke alarm pr...   \n",
       "2     1 - Floor/suite of fire origin: No smoke alarm   \n",
       "3  9 - Floor/suite of fire origin: Smoke alarm pr...   \n",
       "4  2 - Floor/suite of fire origin: Smoke alarm pr...   \n",
       "\n",
       "  Smoke_Alarm_at_Fire_Origin_Al_1  \\\n",
       "0           9 - Type undetermined   \n",
       "1              4 - Interconnected   \n",
       "2            1 - Battery operated   \n",
       "3           9 - Type undetermined   \n",
       "4            1 - Battery operated   \n",
       "\n",
       "                     Smoke_Alarm_at_Fire_Origin_Alar  \\\n",
       "0           99 - Reason for inoperation undetermined   \n",
       "1  98 - Not applicable: Alarm operated OR presenc...   \n",
       "2                      8 - Tampered with (vandalism)   \n",
       "3           99 - Reason for inoperation undetermined   \n",
       "4  98 - Not applicable: Alarm operated OR presenc...   \n",
       "\n",
       "                                        Smoke_Spread  \\\n",
       "0                3 - Spread to entire room of origin   \n",
       "1  5 - Multi unit bldg: spread beyond suite of or...   \n",
       "2       4 - Spread beyond room of origin, same floor   \n",
       "3   6 - Multi unit bldg: spread to separate suite(s)   \n",
       "4   7 - Spread to other floors, confined to building   \n",
       "\n",
       "                         Sprinkler_System_Operation  \\\n",
       "0            2 - Did not activate: remote from fire   \n",
       "1  8 - Not applicable - no sprinkler system present   \n",
       "2  8 - Not applicable - no sprinkler system present   \n",
       "3            2 - Did not activate: remote from fire   \n",
       "4  8 - Not applicable - no sprinkler system present   \n",
       "\n",
       "              Sprinkler_System_Presence  \\\n",
       "0  2 - Partial sprinkler system present   \n",
       "1               3 - No sprinkler system   \n",
       "2               3 - No sprinkler system   \n",
       "3     1 - Full sprinkler system present   \n",
       "4               3 - No sprinkler system   \n",
       "\n",
       "                           Status_of_Fire_On_Arrival      TFS_Alarm_Time  \\\n",
       "0             1 - Fire extinguished prior to arrival 2017-06-09 17:37:26   \n",
       "1  4 - Flames showing from small area (one storey... 2014-03-06 20:10:48   \n",
       "2             1 - Fire extinguished prior to arrival 2014-10-07 07:34:36   \n",
       "3             1 - Fire extinguished prior to arrival 2015-11-27 23:40:25   \n",
       "4             1 - Fire extinguished prior to arrival 2017-08-27 09:34:38   \n",
       "\n",
       "     TFS_Arrival_Time  TFS_Firefighter_Casualties  \n",
       "0 2017-06-09 17:41:16                           0  \n",
       "1 2014-03-06 20:15:50                           0  \n",
       "2 2014-10-07 07:40:15                           0  \n",
       "3 2015-11-27 23:44:49                           0  \n",
       "4 2017-08-27 09:35:44                           0  \n",
       "\n",
       "[5 rows x 45 columns]"
      ]
     },
     "execution_count": 17,
     "metadata": {},
     "output_type": "execute_result"
    }
   ],
   "source": [
    "#Data Prep and collection\n",
    "#makes a reference to cases in which there were civilian casualties in the fire\n",
    "ll = fire_lyr.query(where=\"Civilian_Casualties > 0\").sdf\n",
    "ll.head()"
   ]
  },
  {
   "cell_type": "code",
   "execution_count": 31,
   "metadata": {
    "scrolled": true
   },
   "outputs": [
    {
     "data": {
      "text/plain": [
       "True"
      ]
     },
     "execution_count": 31,
     "metadata": {},
     "output_type": "execute_result"
    }
   ],
   "source": [
    "#Data Understanding\n",
    "#Adds a symbol to show the cases in which there was a casualty\n",
    "ll.spatial.plot(map_widget = Toronto_Map)\n",
    "#Creates a specific symbol to show the cases in which a casualty happened\n",
    "ll.spatial.plot(map_widget=Toronto_Map, symbol_type='simple', \n",
    "                symbol_style='+', \n",
    "                colors='Reds_r', \n",
    "                cstep=10, \n",
    "                outline_color='Blues', \n",
    "                marker_size=9)"
   ]
  },
  {
   "cell_type": "markdown",
   "metadata": {},
   "source": [
    "https://www.cbc.ca/news/canada/toronto/tch-pleads-guilty-to-fire-code-violation-at-building-where-4-seniors-died-1.4202802\n",
    "<br>From here I further anaylized the data and found in the csv file where there was an incident of 15 civilian deaths from a fire. The story states from local news, that there was no fire plan from Toronto Community Housing, a retirement home facility, in which multiple people had died and the fire spread was vast:</br>\n",
    "<br>Id number: 147845 </br>\n",
    "<br>Deaths: 15</br>"
   ]
  },
  {
   "cell_type": "code",
   "execution_count": 15,
   "metadata": {},
   "outputs": [
    {
     "data": {
      "text/html": [
       "<div>\n",
       "<style scoped>\n",
       "    .dataframe tbody tr th:only-of-type {\n",
       "        vertical-align: middle;\n",
       "    }\n",
       "\n",
       "    .dataframe tbody tr th {\n",
       "        vertical-align: top;\n",
       "    }\n",
       "\n",
       "    .dataframe thead th {\n",
       "        text-align: right;\n",
       "    }\n",
       "</style>\n",
       "<table border=\"1\" class=\"dataframe\">\n",
       "  <thead>\n",
       "    <tr style=\"text-align: right;\">\n",
       "      <th></th>\n",
       "      <th>Area_of_Origin</th>\n",
       "      <th>Building_Status</th>\n",
       "      <th>Business_Impact</th>\n",
       "      <th>Civilian_Casualties</th>\n",
       "      <th>Count_of_Persons_Rescued</th>\n",
       "      <th>Estimated_Dollar_Loss</th>\n",
       "      <th>Estimated_Number_Of_Persons_Dis</th>\n",
       "      <th>Exposures</th>\n",
       "      <th>Ext_agent_app_or_defer_time</th>\n",
       "      <th>Extent_Of_Fire</th>\n",
       "      <th>...</th>\n",
       "      <th>Smoke_Alarm_at_Fire_Origin</th>\n",
       "      <th>Smoke_Alarm_at_Fire_Origin_Al_1</th>\n",
       "      <th>Smoke_Alarm_at_Fire_Origin_Alar</th>\n",
       "      <th>Smoke_Spread</th>\n",
       "      <th>Sprinkler_System_Operation</th>\n",
       "      <th>Sprinkler_System_Presence</th>\n",
       "      <th>Status_of_Fire_On_Arrival</th>\n",
       "      <th>TFS_Alarm_Time</th>\n",
       "      <th>TFS_Arrival_Time</th>\n",
       "      <th>TFS_Firefighter_Casualties</th>\n",
       "    </tr>\n",
       "  </thead>\n",
       "  <tbody>\n",
       "    <tr>\n",
       "      <th>0</th>\n",
       "      <td>12 - Hallway, Corridor</td>\n",
       "      <td>01 - Normal (no change)</td>\n",
       "      <td>1 - No business interruption</td>\n",
       "      <td>15</td>\n",
       "      <td>6</td>\n",
       "      <td>1000000</td>\n",
       "      <td>50</td>\n",
       "      <td>None</td>\n",
       "      <td>2016-02-05 15:30:00</td>\n",
       "      <td>4 - Spread beyond room of origin, same floor</td>\n",
       "      <td>...</td>\n",
       "      <td>2 - Floor/suite of fire origin: Smoke alarm pr...</td>\n",
       "      <td>4 - Interconnected</td>\n",
       "      <td>98 - Not applicable: Alarm operated OR presenc...</td>\n",
       "      <td>7 - Spread to other floors, confined to building</td>\n",
       "      <td>8 - Not applicable - no sprinkler system present</td>\n",
       "      <td>3 - No sprinkler system</td>\n",
       "      <td>3 - Fire with smoke showing only - including v...</td>\n",
       "      <td>2016-02-05 15:03:38</td>\n",
       "      <td>2016-02-05 15:08:01</td>\n",
       "      <td>0</td>\n",
       "    </tr>\n",
       "  </tbody>\n",
       "</table>\n",
       "<p>1 rows × 45 columns</p>\n",
       "</div>"
      ],
      "text/plain": [
       "           Area_of_Origin          Building_Status  \\\n",
       "0  12 - Hallway, Corridor  01 - Normal (no change)   \n",
       "\n",
       "                Business_Impact  Civilian_Casualties  \\\n",
       "0  1 - No business interruption                   15   \n",
       "\n",
       "   Count_of_Persons_Rescued  Estimated_Dollar_Loss  \\\n",
       "0                         6                1000000   \n",
       "\n",
       "   Estimated_Number_Of_Persons_Dis Exposures Ext_agent_app_or_defer_time  \\\n",
       "0                               50      None         2016-02-05 15:30:00   \n",
       "\n",
       "                                 Extent_Of_Fire             ...              \\\n",
       "0  4 - Spread beyond room of origin, same floor             ...               \n",
       "\n",
       "                          Smoke_Alarm_at_Fire_Origin  \\\n",
       "0  2 - Floor/suite of fire origin: Smoke alarm pr...   \n",
       "\n",
       "  Smoke_Alarm_at_Fire_Origin_Al_1  \\\n",
       "0              4 - Interconnected   \n",
       "\n",
       "                     Smoke_Alarm_at_Fire_Origin_Alar  \\\n",
       "0  98 - Not applicable: Alarm operated OR presenc...   \n",
       "\n",
       "                                       Smoke_Spread  \\\n",
       "0  7 - Spread to other floors, confined to building   \n",
       "\n",
       "                         Sprinkler_System_Operation Sprinkler_System_Presence  \\\n",
       "0  8 - Not applicable - no sprinkler system present   3 - No sprinkler system   \n",
       "\n",
       "                           Status_of_Fire_On_Arrival      TFS_Alarm_Time  \\\n",
       "0  3 - Fire with smoke showing only - including v... 2016-02-05 15:03:38   \n",
       "\n",
       "     TFS_Arrival_Time  TFS_Firefighter_Casualties  \n",
       "0 2016-02-05 15:08:01                           0  \n",
       "\n",
       "[1 rows x 45 columns]"
      ]
     },
     "execution_count": 15,
     "metadata": {},
     "output_type": "execute_result"
    }
   ],
   "source": [
    "#Data Prep and Collection\n",
    "#makes a reference to cases in which there were civilian casualties in the fire\n",
    "specificIncident = fire_lyr.query(where=\"Civilian_Casualties > 14\").sdf\n",
    "specificIncident.head()\n"
   ]
  },
  {
   "cell_type": "code",
   "execution_count": 32,
   "metadata": {},
   "outputs": [
    {
     "data": {
      "text/plain": [
       "True"
      ]
     },
     "execution_count": 32,
     "metadata": {},
     "output_type": "execute_result"
    }
   ],
   "source": [
    "specificIncident.spatial.plot(map_widget=Toronto_Map, symbol_type='simple', \n",
    "                symbol_style='+', \n",
    "                colors='cool_r', \n",
    "                cstep=10, \n",
    "                outline_color='Purples', \n",
    "                marker_size=20)"
   ]
  },
  {
   "cell_type": "markdown",
   "metadata": {},
   "source": [
    "Data understanding\n",
    "From here I would like to map out closest facilities that would relate to the incident. For example, fire stations and hospitals could apply so we could try and calculate response times and compare the data to that from the csv file"
   ]
  },
  {
   "cell_type": "code",
   "execution_count": 20,
   "metadata": {},
   "outputs": [],
   "source": [
    "#gets tje Featurew and Feature set dataBase from arcgis for later use\n",
    "from arcgis.features import Feature, FeatureSet"
   ]
  },
  {
   "cell_type": "code",
   "execution_count": 21,
   "metadata": {},
   "outputs": [],
   "source": [
    "#Data Prep\n",
    "#creates a list of known hospitals around the incident\n",
    "Hospital_Location_list = [\n",
    " \"381 Church St, Markham, ON L3P 7P3, Canada\" ,\n",
    " \"2867 Ellesmere Rd, Scarborough, ON M1E 4B9, Canada\",\n",
    " \"3050 Lawrence Ave E, Scarborough, ON M1P 2V5, Canada\",\n",
    "\"3030 Birchmount Rd, Scarborough, ON M1W 3W3, Canada\",\n",
    "\"580 Harwood Ave S, Ajax, ON L1S 2J4, Canada\",\n",
    "\"Scarborough Birchmount Hospital, Toronto, ON, Canada\",\n",
    "\"3276 St Clair Ave E, Scarborough, ON M1L 1W1, Canada\"\n",
    "]"
   ]
  },
  {
   "cell_type": "code",
   "execution_count": 22,
   "metadata": {},
   "outputs": [],
   "source": [
    "#DATA modeling\n",
    "#List to be filled of the features of the hospitals\n",
    "hospitalArea_feat_list = []\n",
    "\n",
    "#Goes through the list of addresses and uses arcGis Geocoding to get where the address's location could be. We choose the first\n",
    "#hit because we have the exact addresses. Once we geocode it we add it to the feature list\n",
    "for address in Hospital_Location_list:\n",
    "    hit = geocoding.geocode(address)[0]\n",
    "    hospital_feature = Feature(geometry=hit['location'], attributes=hit['attributes'])\n",
    "    hospitalArea_feat_list.append(hospital_feature)"
   ]
  },
  {
   "cell_type": "code",
   "execution_count": 23,
   "metadata": {},
   "outputs": [],
   "source": [
    "#creates a feature set for the hospital feauture so we can draw it onto the map\n",
    "hospitals_fset = FeatureSet(features=hospitalArea_feat_list, \n",
    "                            geometry_type='esriGeometryPoint', \n",
    "                            spatial_reference={'latestWkid': 4326})"
   ]
  },
  {
   "cell_type": "code",
   "execution_count": 24,
   "metadata": {},
   "outputs": [],
   "source": [
    "#Data evaluation -> feedback\n",
    "#draws all the hospitals from the list to the map\n",
    "Toronto_Map.draw(hospitals_fset, symbol={\"type\": \"esriSMS\",\"style\": \"esriSMSDiamond\",\n",
    "                                  \"color\": [76,115,0,255],\"size\": 14,})"
   ]
  },
  {
   "cell_type": "code",
   "execution_count": 26,
   "metadata": {},
   "outputs": [],
   "source": [
    "#Data Prep\n",
    "#Creates a list of addresses of known firestations around the incident\n",
    "FireStation_Location_list = [\n",
    " \"7 Lapsley Rd, Scarborough, ON M1B 1K1, Canada\" ,\n",
    " \"900 Tapscott Rd, Scarborough, ON M1X 1C3, Canada\",\n",
    " \"8500 Sheppard Ave E, Scarborough, ON M1B 5R4, Canada\",\n",
    "\"745 Meadowvale Rd, Scarborough, ON M1C 3K1, Canada\",\n",
    "\"5318 Lawrence Ave E, Scarborough, ON M1C 1R5, Canada\",\n",
    "\"4560 Sheppard Ave E, Scarborough, ON M1S 3R6, Canada\",\n",
    "\"2733 Brimley Rd, Scarborough, ON M1V 1T4, Canada\"\n",
    "]"
   ]
  },
  {
   "cell_type": "code",
   "execution_count": 27,
   "metadata": {},
   "outputs": [],
   "source": [
    "#DATA modeling\n",
    "#List to be filled of the features of the firestations\n",
    "fireStatArea_feat_list = []\n",
    "\n",
    "#Goes through the list of addresses and uses arcGis Geocoding to get where the address's location could be. We choose the first\n",
    "#hit because we have the exact addresses. Once we geocode it we add it to the feature list\n",
    "for addressF in FireStation_Location_list:\n",
    "    firehit = geocoding.geocode(addressF)[0]\n",
    "    fireStat_feature = Feature(geometry=firehit['location'], attributes=firehit['attributes'])\n",
    "    fireStatArea_feat_list.append(fireStat_feature)"
   ]
  },
  {
   "cell_type": "code",
   "execution_count": 28,
   "metadata": {},
   "outputs": [],
   "source": [
    "#creates a feature set for the fire-station feauture so we can draw it onto the map\n",
    "fire_stat_fset = FeatureSet(features=fireStatArea_feat_list, \n",
    "                            geometry_type='esriGeometryPoint', \n",
    "                            spatial_reference={'latestWkid': 4326})"
   ]
  },
  {
   "cell_type": "code",
   "execution_count": 29,
   "metadata": {},
   "outputs": [],
   "source": [
    "#Data evaluation -> feedback\n",
    "#draws all the firestations from the list to the map\n",
    "Toronto_Map.draw(fire_stat_fset, symbol={\"type\": \"esriSMS\",\"style\": \"esriSMSDiamond\",\n",
    "                                  \"color\": [250,8,0,255],\"size\": 14,})"
   ]
  },
  {
   "cell_type": "code",
   "execution_count": 34,
   "metadata": {},
   "outputs": [
    {
     "name": "stderr",
     "output_type": "stream",
     "text": [
      "Unable to generate token.\n",
      "Invalid username or password.\n"
     ]
    },
    {
     "ename": "RuntimeError",
     "evalue": "Unable to generate token.\nInvalid username or password.\n(Error Code: 400)",
     "output_type": "error",
     "traceback": [
      "\u001b[1;31m---------------------------------------------------------------------------\u001b[0m",
      "\u001b[1;31mRuntimeError\u001b[0m                              Traceback (most recent call last)",
      "\u001b[1;32m<ipython-input-34-7c3b8bfbec59>\u001b[0m in \u001b[0;36m<module>\u001b[1;34m()\u001b[0m\n\u001b[0;32m      4\u001b[0m \u001b[0muser_name\u001b[0m \u001b[1;33m=\u001b[0m \u001b[1;34m'JDN8608'\u001b[0m\u001b[1;33m\u001b[0m\u001b[0m\n\u001b[0;32m      5\u001b[0m \u001b[0mpassword\u001b[0m \u001b[1;33m=\u001b[0m \u001b[1;34m'JDNc0d3w@rrior'\u001b[0m\u001b[1;33m\u001b[0m\u001b[0m\n\u001b[1;32m----> 6\u001b[1;33m \u001b[0mmy_gis\u001b[0m \u001b[1;33m=\u001b[0m \u001b[0mGIS\u001b[0m\u001b[1;33m(\u001b[0m\u001b[1;34m'https://www.arcgis.com'\u001b[0m\u001b[1;33m,\u001b[0m \u001b[0muser_name\u001b[0m\u001b[1;33m,\u001b[0m \u001b[0mpassword\u001b[0m\u001b[1;33m)\u001b[0m\u001b[1;33m\u001b[0m\u001b[0m\n\u001b[0m\u001b[0;32m      7\u001b[0m \u001b[0manalysis_url\u001b[0m \u001b[1;33m=\u001b[0m \u001b[0mmy_gis\u001b[0m\u001b[1;33m.\u001b[0m\u001b[0mproperties\u001b[0m\u001b[1;33m.\u001b[0m\u001b[0mhelperServices\u001b[0m\u001b[1;33m.\u001b[0m\u001b[0mclosestFacility\u001b[0m\u001b[1;33m.\u001b[0m\u001b[0murl\u001b[0m\u001b[1;33m\u001b[0m\u001b[0m\n\u001b[0;32m      8\u001b[0m \u001b[0manalysis_url\u001b[0m\u001b[1;33m\u001b[0m\u001b[0m\n",
      "\u001b[1;32mc:\\Program Files\\ArcGIS\\Pro\\bin\\Python\\envs\\arcgispro-py3\\lib\\site-packages\\arcgis\\gis\\__init__.py\u001b[0m in \u001b[0;36m__init__\u001b[1;34m(self, url, username, password, key_file, cert_file, verify_cert, set_active, client_id, profile, **kwargs)\u001b[0m\n\u001b[0;32m    330\u001b[0m                                    \"argument when connecting to the GIS.\")\n\u001b[0;32m    331\u001b[0m             \u001b[1;32melse\u001b[0m\u001b[1;33m:\u001b[0m\u001b[1;33m\u001b[0m\u001b[0m\n\u001b[1;32m--> 332\u001b[1;33m                 \u001b[1;32mraise\u001b[0m \u001b[0me\u001b[0m\u001b[1;33m\u001b[0m\u001b[0m\n\u001b[0m\u001b[0;32m    333\u001b[0m         \u001b[1;32mtry\u001b[0m\u001b[1;33m:\u001b[0m\u001b[1;33m\u001b[0m\u001b[0m\n\u001b[0;32m    334\u001b[0m             \u001b[1;32mif\u001b[0m \u001b[0murl\u001b[0m\u001b[1;33m.\u001b[0m\u001b[0mlower\u001b[0m\u001b[1;33m(\u001b[0m\u001b[1;33m)\u001b[0m\u001b[1;33m.\u001b[0m\u001b[0mfind\u001b[0m\u001b[1;33m(\u001b[0m\u001b[1;34m\"arcgis.com\"\u001b[0m\u001b[1;33m)\u001b[0m \u001b[1;33m>\u001b[0m \u001b[1;33m-\u001b[0m\u001b[1;36m1\u001b[0m \u001b[1;32mand\u001b[0m\u001b[0;31m \u001b[0m\u001b[0;31m\\\u001b[0m\u001b[1;33m\u001b[0m\u001b[0m\n",
      "\u001b[1;32mc:\\Program Files\\ArcGIS\\Pro\\bin\\Python\\envs\\arcgispro-py3\\lib\\site-packages\\arcgis\\gis\\__init__.py\u001b[0m in \u001b[0;36m__init__\u001b[1;34m(self, url, username, password, key_file, cert_file, verify_cert, set_active, client_id, profile, **kwargs)\u001b[0m\n\u001b[0;32m    318\u001b[0m                                            \u001b[0mverify_cert\u001b[0m\u001b[1;33m=\u001b[0m\u001b[0mself\u001b[0m\u001b[1;33m.\u001b[0m\u001b[0m_verify_cert\u001b[0m\u001b[1;33m,\u001b[0m\u001b[1;33m\u001b[0m\u001b[0m\n\u001b[0;32m    319\u001b[0m                                            \u001b[0mclient_id\u001b[0m\u001b[1;33m=\u001b[0m\u001b[0mself\u001b[0m\u001b[1;33m.\u001b[0m\u001b[0m_client_id\u001b[0m\u001b[1;33m,\u001b[0m\u001b[1;33m\u001b[0m\u001b[0m\n\u001b[1;32m--> 320\u001b[1;33m                                            referer=self._referer)\n\u001b[0m\u001b[0;32m    321\u001b[0m \u001b[1;33m\u001b[0m\u001b[0m\n\u001b[0;32m    322\u001b[0m             \u001b[1;32mif\u001b[0m \u001b[1;32mnot\u001b[0m \u001b[1;33m(\u001b[0m\u001b[0mself\u001b[0m\u001b[1;33m.\u001b[0m\u001b[0m_utoken\u001b[0m \u001b[1;32mis\u001b[0m \u001b[1;32mNone\u001b[0m\u001b[1;33m)\u001b[0m\u001b[1;33m:\u001b[0m\u001b[1;33m\u001b[0m\u001b[0m\n",
      "\u001b[1;32mc:\\Program Files\\ArcGIS\\Pro\\bin\\Python\\envs\\arcgispro-py3\\lib\\site-packages\\arcgis\\_impl\\portalpy.py\u001b[0m in \u001b[0;36m__init__\u001b[1;34m(self, url, username, password, key_file, cert_file, expiration, referer, proxy_host, proxy_port, connection, workdir, tokenurl, verify_cert, client_id)\u001b[0m\n\u001b[0;32m    161\u001b[0m                                              \u001b[0mproxy_port\u001b[0m\u001b[1;33m=\u001b[0m\u001b[0mproxy_port\u001b[0m\u001b[1;33m,\u001b[0m\u001b[1;33m\u001b[0m\u001b[0m\n\u001b[0;32m    162\u001b[0m                                              \u001b[0mverify_cert\u001b[0m\u001b[1;33m=\u001b[0m\u001b[0mverify_cert\u001b[0m\u001b[1;33m,\u001b[0m\u001b[1;33m\u001b[0m\u001b[0m\n\u001b[1;32m--> 163\u001b[1;33m                                              client_id=client_id)\n\u001b[0m\u001b[0;32m    164\u001b[0m         \u001b[1;31m#self.get_version(True)\u001b[0m\u001b[1;33m\u001b[0m\u001b[1;33m\u001b[0m\u001b[0m\n\u001b[0;32m    165\u001b[0m         \u001b[0mself\u001b[0m\u001b[1;33m.\u001b[0m\u001b[0mget_properties\u001b[0m\u001b[1;33m(\u001b[0m\u001b[1;32mTrue\u001b[0m\u001b[1;33m)\u001b[0m\u001b[1;33m\u001b[0m\u001b[0m\n",
      "\u001b[1;32mc:\\Program Files\\ArcGIS\\Pro\\bin\\Python\\envs\\arcgispro-py3\\lib\\site-packages\\arcgis\\_impl\\connection.py\u001b[0m in \u001b[0;36m__init__\u001b[1;34m(self, baseurl, tokenurl, username, password, key_file, cert_file, expiration, all_ssl, referer, proxy_host, proxy_port, connection, verify_cert, client_id)\u001b[0m\n\u001b[0;32m    288\u001b[0m \u001b[1;33m\u001b[0m\u001b[0m\n\u001b[0;32m    289\u001b[0m         \u001b[1;32mif\u001b[0m \u001b[0mcert_file\u001b[0m \u001b[1;32mis\u001b[0m \u001b[1;32mNone\u001b[0m \u001b[1;32mand\u001b[0m \u001b[0mkey_file\u001b[0m \u001b[1;32mis\u001b[0m \u001b[1;32mNone\u001b[0m\u001b[1;33m:\u001b[0m\u001b[1;33m\u001b[0m\u001b[0m\n\u001b[1;32m--> 290\u001b[1;33m             \u001b[0mself\u001b[0m\u001b[1;33m.\u001b[0m\u001b[0mlogin\u001b[0m\u001b[1;33m(\u001b[0m\u001b[0musername\u001b[0m\u001b[1;33m,\u001b[0m \u001b[0mpassword\u001b[0m\u001b[1;33m,\u001b[0m \u001b[0mexpiration\u001b[0m\u001b[1;33m,\u001b[0m \u001b[0mclient_id\u001b[0m\u001b[1;33m)\u001b[0m\u001b[1;33m\u001b[0m\u001b[0m\n\u001b[0m\u001b[0;32m    291\u001b[0m \u001b[1;33m\u001b[0m\u001b[0m\n\u001b[0;32m    292\u001b[0m     \u001b[1;31m#----------------------------------------------------------------------\u001b[0m\u001b[1;33m\u001b[0m\u001b[1;33m\u001b[0m\u001b[0m\n",
      "\u001b[1;32mc:\\Program Files\\ArcGIS\\Pro\\bin\\Python\\envs\\arcgispro-py3\\lib\\site-packages\\arcgis\\_impl\\connection.py\u001b[0m in \u001b[0;36mlogin\u001b[1;34m(self, username, password, expiration, client_id)\u001b[0m\n\u001b[0;32m    539\u001b[0m \u001b[1;33m\u001b[0m\u001b[0m\n\u001b[0;32m    540\u001b[0m             \u001b[1;32mif\u001b[0m \u001b[0musername\u001b[0m \u001b[1;32mis\u001b[0m \u001b[1;32mnot\u001b[0m \u001b[1;32mNone\u001b[0m \u001b[1;32mand\u001b[0m \u001b[0mpassword\u001b[0m \u001b[1;32mis\u001b[0m \u001b[1;32mnot\u001b[0m \u001b[1;32mNone\u001b[0m\u001b[1;33m:\u001b[0m\u001b[1;33m\u001b[0m\u001b[0m\n\u001b[1;32m--> 541\u001b[1;33m                 \u001b[0mnewtoken\u001b[0m \u001b[1;33m=\u001b[0m \u001b[0mself\u001b[0m\u001b[1;33m.\u001b[0m\u001b[0mgenerate_token\u001b[0m\u001b[1;33m(\u001b[0m\u001b[0musername\u001b[0m\u001b[1;33m,\u001b[0m \u001b[0mpassword\u001b[0m\u001b[1;33m,\u001b[0m \u001b[0mexpiration\u001b[0m\u001b[1;33m,\u001b[0m \u001b[0mclient_id\u001b[0m\u001b[1;33m)\u001b[0m\u001b[1;33m\u001b[0m\u001b[0m\n\u001b[0m\u001b[0;32m    542\u001b[0m \u001b[1;33m\u001b[0m\u001b[0m\n\u001b[0;32m    543\u001b[0m                 \u001b[1;32mif\u001b[0m \u001b[0mnewtoken\u001b[0m\u001b[1;33m:\u001b[0m\u001b[1;33m\u001b[0m\u001b[0m\n",
      "\u001b[1;32mc:\\Program Files\\ArcGIS\\Pro\\bin\\Python\\envs\\arcgispro-py3\\lib\\site-packages\\arcgis\\_impl\\connection.py\u001b[0m in \u001b[0;36mgenerate_token\u001b[1;34m(self, username, password, expiration, client_id)\u001b[0m\n\u001b[0;32m    404\u001b[0m                 \u001b[1;32mif\u001b[0m \u001b[0mself\u001b[0m\u001b[1;33m.\u001b[0m\u001b[0mbaseurl\u001b[0m\u001b[1;33m.\u001b[0m\u001b[0mendswith\u001b[0m\u001b[1;33m(\u001b[0m\u001b[1;34m'/'\u001b[0m\u001b[1;33m)\u001b[0m\u001b[1;33m:\u001b[0m\u001b[1;33m\u001b[0m\u001b[0m\n\u001b[0;32m    405\u001b[0m                     resp = self.post('generateToken', postdata,\n\u001b[1;32m--> 406\u001b[1;33m                                      ssl=True, add_token=False)\n\u001b[0m\u001b[0;32m    407\u001b[0m                 \u001b[1;32melse\u001b[0m\u001b[1;33m:\u001b[0m\u001b[1;33m\u001b[0m\u001b[0m\n\u001b[0;32m    408\u001b[0m                     resp = self.post('/generateToken', postdata,\n",
      "\u001b[1;32mc:\\Program Files\\ArcGIS\\Pro\\bin\\Python\\envs\\arcgispro-py3\\lib\\site-packages\\arcgis\\_impl\\connection.py\u001b[0m in \u001b[0;36mpost\u001b[1;34m(self, path, postdata, files, ssl, compress, is_retry, use_ordered_dict, add_token, verify_cert, token, try_json, out_folder, file_name, force_bytes, add_headers)\u001b[0m\n\u001b[0;32m   1157\u001b[0m                                          verify_cert=verify_cert, is_retry=True)\n\u001b[0;32m   1158\u001b[0m \u001b[1;33m\u001b[0m\u001b[0m\n\u001b[1;32m-> 1159\u001b[1;33m                 \u001b[0mself\u001b[0m\u001b[1;33m.\u001b[0m\u001b[0m_handle_json_error\u001b[0m\u001b[1;33m(\u001b[0m\u001b[0mresp_json\u001b[0m\u001b[1;33m[\u001b[0m\u001b[1;34m'error'\u001b[0m\u001b[1;33m]\u001b[0m\u001b[1;33m,\u001b[0m \u001b[0merrorcode\u001b[0m\u001b[1;33m)\u001b[0m\u001b[1;33m\u001b[0m\u001b[0m\n\u001b[0m\u001b[0;32m   1160\u001b[0m                 \u001b[1;32mreturn\u001b[0m \u001b[1;32mNone\u001b[0m\u001b[1;33m\u001b[0m\u001b[0m\n\u001b[0;32m   1161\u001b[0m \u001b[1;33m\u001b[0m\u001b[0m\n",
      "\u001b[1;32mc:\\Program Files\\ArcGIS\\Pro\\bin\\Python\\envs\\arcgispro-py3\\lib\\site-packages\\arcgis\\_impl\\connection.py\u001b[0m in \u001b[0;36m_handle_json_error\u001b[1;34m(self, error, errorcode)\u001b[0m\n\u001b[0;32m   1178\u001b[0m \u001b[1;33m\u001b[0m\u001b[0m\n\u001b[0;32m   1179\u001b[0m         \u001b[0merrormessage\u001b[0m \u001b[1;33m=\u001b[0m \u001b[0merrormessage\u001b[0m \u001b[1;33m+\u001b[0m \u001b[1;34m\"\\n(Error Code: \"\u001b[0m \u001b[1;33m+\u001b[0m \u001b[0mstr\u001b[0m\u001b[1;33m(\u001b[0m\u001b[0merrorcode\u001b[0m\u001b[1;33m)\u001b[0m \u001b[1;33m+\u001b[0m\u001b[1;34m\")\"\u001b[0m\u001b[1;33m\u001b[0m\u001b[0m\n\u001b[1;32m-> 1180\u001b[1;33m         \u001b[1;32mraise\u001b[0m \u001b[0mRuntimeError\u001b[0m\u001b[1;33m(\u001b[0m\u001b[0merrormessage\u001b[0m\u001b[1;33m)\u001b[0m\u001b[1;33m\u001b[0m\u001b[0m\n\u001b[0m\u001b[0;32m   1181\u001b[0m \u001b[1;33m\u001b[0m\u001b[0m\n\u001b[0;32m   1182\u001b[0m \u001b[1;32mclass\u001b[0m \u001b[0m_StrictURLopener\u001b[0m\u001b[1;33m(\u001b[0m\u001b[0mrequest\u001b[0m\u001b[1;33m.\u001b[0m\u001b[0mFancyURLopener\u001b[0m\u001b[1;33m)\u001b[0m\u001b[1;33m:\u001b[0m\u001b[1;33m\u001b[0m\u001b[0m\n",
      "\u001b[1;31mRuntimeError\u001b[0m: Unable to generate token.\nInvalid username or password.\n(Error Code: 400)"
     ]
    }
   ],
   "source": [
    "#I was going to implement networking but was unable to connect to the arcGis network features due to not being able to sign in\n",
    "#through juypter notebook. Since we use enterprise log ins\n",
    "\n",
    "#the plan was to use closest facility to finish this off and find the quickest fire stationa and hospital to this severe incident\n",
    "#and then compare it to the response time recorded and how long it took to put out the fire\n",
    "\n",
    "#May work on this for the final project and utulize this data base at a later date\n",
    "import arcgis.network as network\n",
    "user_name = 'JDN8608'\n",
    "password = 'JDNc0d3w@rrior'\n",
    "my_gis = GIS('https://www.arcgis.com', user_name, password)\n",
    "analysis_url = my_gis.properties.helperServices.closestFacility.url\n",
    "analysis_url\n"
   ]
  },
  {
   "cell_type": "code",
   "execution_count": null,
   "metadata": {},
   "outputs": [],
   "source": []
  }
 ],
 "metadata": {
  "kernelspec": {
   "display_name": "Python 3",
   "language": "python",
   "name": "python3"
  },
  "language_info": {
   "codemirror_mode": {
    "name": "ipython",
    "version": 3
   },
   "file_extension": ".py",
   "mimetype": "text/x-python",
   "name": "python",
   "nbconvert_exporter": "python",
   "pygments_lexer": "ipython3",
   "version": "3.6.6"
  }
 },
 "nbformat": 4,
 "nbformat_minor": 2
}
